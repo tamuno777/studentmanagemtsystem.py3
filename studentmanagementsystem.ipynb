{
 "cells": [
  {
   "cell_type": "code",
   "execution_count": 99,
   "metadata": {},
   "outputs": [],
   "source": [
    "class studentmanagementsystem:\n",
    "    def __init__(self, name,gender,SN):\n",
    "        self.name=name\n",
    "        self.SN=SN\n",
    "        self.gender=gender\n",
    "       \n",
    "    def accept (self,NAME,Gender,sn):\n",
    "        details =studentmanagementsystem(NAME,Gender,sn)\n",
    "        Newdetails.append(details)\n",
    "       \n",
    "    def display (self,details):\n",
    "        print(\"Name   : \", details.name)\n",
    "        print(\"Gender   : \", details.gender)\n",
    "        print(\"sn   : \", details.SN)\n",
    "        print(\"\\n\")\n",
    "    def search(self,choice):\n",
    "        for i in range(Newdetails.__len__()):\n",
    "            if(Newdetails[i].SN == choice):\n",
    "                return(i)\n",
    "    def delete(self,choice):\n",
    "        i = student1.search(choice)\n",
    "        del Newdetails[i]\n",
    "    def update(self,choice,NO):\n",
    "        i = student1.search(choice)\n",
    "        S = NO\n",
    "        Newdetails[i].SN = S;\n",
    "        print(\"thank you\")\n",
    "Newdetails=[]\n",
    "student1=studentmanagementsystem('','',0)\n",
    "\n"
   ]
  },
  {
   "cell_type": "code",
   "execution_count": 100,
   "metadata": {},
   "outputs": [],
   "source": [
    "student1.accept('A','m',1)\n",
    "student1.accept(\"D\",'m',2)\n",
    "student1.accept(\"B\",'f',3)\n",
    "student1.accept(\"C\",'m',4)"
   ]
  },
  {
   "cell_type": "code",
   "execution_count": 101,
   "metadata": {},
   "outputs": [
    {
     "name": "stdout",
     "output_type": "stream",
     "text": [
      "Name   :  A\n",
      "Gender   :  m\n",
      "sn   :  1\n",
      "\n",
      "\n",
      "Name   :  D\n",
      "Gender   :  m\n",
      "sn   :  2\n",
      "\n",
      "\n",
      "Name   :  B\n",
      "Gender   :  f\n",
      "sn   :  3\n",
      "\n",
      "\n",
      "Name   :  C\n",
      "Gender   :  m\n",
      "sn   :  4\n",
      "\n",
      "\n"
     ]
    }
   ],
   "source": [
    "for i in range(len(Newdetails)):\n",
    "    student1.display(Newdetails[i])"
   ]
  },
  {
   "cell_type": "code",
   "execution_count": 102,
   "metadata": {},
   "outputs": [
    {
     "name": "stdout",
     "output_type": "stream",
     "text": [
      "\n",
      " Student Found, \n",
      "Name   :  D\n",
      "Gender   :  m\n",
      "sn   :  2\n",
      "\n",
      "\n"
     ]
    }
   ],
   "source": [
    "print(\"\\n Student Found, \")\n",
    "s = student1.search(2)\n",
    "student1.display(Newdetails[s])"
   ]
  },
  {
   "cell_type": "code",
   "execution_count": 103,
   "metadata": {},
   "outputs": [
    {
     "name": "stdout",
     "output_type": "stream",
     "text": [
      "3\n",
      "List after deletion\n",
      "Name   :  A\n",
      "Gender   :  m\n",
      "sn   :  1\n",
      "\n",
      "\n",
      "Name   :  B\n",
      "Gender   :  f\n",
      "sn   :  3\n",
      "\n",
      "\n",
      "Name   :  C\n",
      "Gender   :  m\n",
      "sn   :  4\n",
      "\n",
      "\n"
     ]
    }
   ],
   "source": [
    "student1.delete(2)\n",
    "print(Newdetails.__len__())\n",
    "print(\"List after deletion\")\n",
    "for i in range(Newdetails.__len__()):\n",
    "    student1.display(Newdetails[i])\n"
   ]
  },
  {
   "cell_type": "code",
   "execution_count": 104,
   "metadata": {},
   "outputs": [
    {
     "name": "stdout",
     "output_type": "stream",
     "text": [
      "thank you\n",
      "3\n",
      "List after updation\n",
      "Name   :  A\n",
      "Gender   :  m\n",
      "sn   :  1\n",
      "\n",
      "\n",
      "Name   :  B\n",
      "Gender   :  f\n",
      "sn   :  2\n",
      "\n",
      "\n",
      "Name   :  C\n",
      "Gender   :  m\n",
      "sn   :  4\n",
      "\n",
      "\n",
      "Thank You !\n"
     ]
    }
   ],
   "source": [
    "student1.update(3, 2)\n",
    "print(Newdetails.__len__())\n",
    "print(\"List after updation\")\n",
    "for i in range(Newdetails.__len__()):\n",
    "    student1.display(Newdetails[i])\n",
    "print(\"Thank You !\")"
   ]
  },
  {
   "cell_type": "code",
   "execution_count": null,
   "metadata": {},
   "outputs": [],
   "source": []
  },
  {
   "cell_type": "code",
   "execution_count": null,
   "metadata": {},
   "outputs": [],
   "source": []
  }
 ],
 "metadata": {
  "kernelspec": {
   "display_name": "Python 3",
   "language": "python",
   "name": "python3"
  },
  "language_info": {
   "codemirror_mode": {
    "name": "ipython",
    "version": 3
   },
   "file_extension": ".py",
   "mimetype": "text/x-python",
   "name": "python",
   "nbconvert_exporter": "python",
   "pygments_lexer": "ipython3",
   "version": "3.8.5"
  }
 },
 "nbformat": 4,
 "nbformat_minor": 4
}
